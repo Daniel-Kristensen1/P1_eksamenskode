{
 "cells": [
  {
   "cell_type": "code",
   "execution_count": 1,
   "metadata": {},
   "outputs": [],
   "source": [
    "import pandas as pd\n",
    "from sklearn.model_selection import cross_validate, train_test_split\n",
    "from sklearn.linear_model import LogisticRegression\n",
    "from sklearn.preprocessing import StandardScaler\n",
    "from sklearn.pipeline import Pipeline\n",
    "from sklearn.metrics import make_scorer, precision_score, recall_score, f1_score\n",
    "from sklearn.ensemble import BaggingClassifier\n",
    "from sklearn import pipeline\n",
    "from sklearn.discriminant_analysis import StandardScaler\n",
    "from sklearn.ensemble import RandomForestClassifier, VotingClassifier\n",
    "from sklearn.linear_model import LogisticRegression\n",
    "from sklearn.model_selection import cross_validate\n",
    "from sklearn.svm import SVC\n",
    "from sklearn.pipeline import Pipeline\n",
    "# Load the dataset\n",
    "#Stationær\n",
    "df = pd.read_csv(r'C:\\Users\\Daniel K\\OneDrive\\Desktop\\DAKI\\1. Semester\\P1_eksamenskode\\entire_dataset_updated.csv')\n",
    "#Bærbar\n",
    "#df = pd.read_csv(\"/Users/daniel_kristensen/DAKI/opgaver/DAKI-opg/daki_p1/Rensetdata.csv\")\n",
    "\n",
    "\n",
    "# Define features and target variable\n",
    "features = ['Cholesterol', 'RestingBP', 'Age', 'FastingBS', 'MaxHR', 'Sex_M', \n",
    "            'ExerciseAngina_Y', 'RestingECG_ST', 'ChestPainType_TA', \n",
    "            'ChestPainType_ATA', 'ChestPainType_NAP', 'RestingECG_Normal']\n",
    "target = 'HeartDisease'\n",
    "\n",
    "X = df[features]\n",
    "y = df[target]\n",
    "\n",
    "# Split into train and test sets\n",
    "X_train, X_test, y_train, y_test = train_test_split(X, y, test_size=0.2, random_state=13, stratify=y)\n",
    "\n",
    "\n",
    "# Define scoring metrics\n",
    "scoring = {\n",
    "    'accuracy': 'accuracy',\n",
    "    'precision': make_scorer(precision_score),\n",
    "    'recall': make_scorer(recall_score),\n",
    "    'f1': make_scorer(f1_score)\n",
    "}"
   ]
  },
  {
   "cell_type": "code",
   "execution_count": 55,
   "metadata": {},
   "outputs": [
    {
     "name": "stdout",
     "output_type": "stream",
     "text": [
      "Fitting 20 folds for each of 24 candidates, totalling 480 fits\n",
      "Best Parameters: {'C': 1, 'penalty': 'l1', 'random_state': 13, 'solver': 'liblinear'}\n",
      "Best F1 Score: 0.8221770666111203\n"
     ]
    }
   ],
   "source": [
    "#Logistisk regression grid search\n",
    "from sklearn.model_selection import GridSearchCV, train_test_split\n",
    "model = LogisticRegression()\n",
    "\n",
    "param_grid = {\n",
    "    'C': [0.001, 0.01, 0.1, 1, 10, 100],\n",
    "    'penalty': ['l1', 'l2'],\n",
    "    'solver': ['liblinear', 'saga'],\n",
    "    'random_state': [13]\n",
    "}\n",
    "\n",
    "grid_search = GridSearchCV(estimator=model, param_grid=param_grid, \n",
    "                            scoring=scoring, refit=\"f1\", cv=20, verbose=2, n_jobs=-1)\n",
    "grid_search.fit(X_train, y_train)\n",
    "\n",
    "print(f\"Best Parameters: {grid_search.best_params_}\")\n",
    "print(f\"Best F1 Score: {grid_search.best_score_}\")"
   ]
  },
  {
   "cell_type": "code",
   "execution_count": null,
   "metadata": {},
   "outputs": [
    {
     "name": "stdout",
     "output_type": "stream",
     "text": [
      "Fitting 20 folds for each of 16 candidates, totalling 320 fits\n",
      "Best Parameters: {'C': 0.1, 'gamma': 0.001, 'random_state': 13}\n",
      "Best F1 Score: 0.7353854502523682\n"
     ]
    }
   ],
   "source": [
    "#SVM grid search\n",
    "from sklearn.model_selection import GridSearchCV, train_test_split\n",
    "\n",
    "model = SVC(probability=True, kernel=\"rbf\")\n",
    "\n",
    "param_grid = {\n",
    "    'C': [0.1, 1, 10, 100],             # Regularization parameter\n",
    "    'gamma': [1, 0.1, 0.01, 0.001],    # Kernel coefficient for 'rbf'\n",
    "    'random_state': [13]\n",
    "}\n",
    "\n",
    "grid_search = GridSearchCV(estimator=model, param_grid=param_grid, \n",
    "                           scoring=scoring, refit=\"f1\", cv=20, verbose=2, n_jobs=-1)\n",
    "grid_search.fit(X_train, y_train)\n",
    "\n",
    "print(f\"Best Parameters: {grid_search.best_params_}\")\n",
    "print(f\"Best F1 Score: {grid_search.best_score_}\")"
   ]
  },
  {
   "cell_type": "code",
   "execution_count": 60,
   "metadata": {},
   "outputs": [
    {
     "name": "stdout",
     "output_type": "stream",
     "text": [
      "Fitting 20 folds for each of 432 candidates, totalling 8640 fits\n",
      "Best Parameters: {'max_depth': 10, 'max_features': 'sqrt', 'min_samples_leaf': 1, 'min_samples_split': 2, 'n_estimators': 100, 'random_state': 13}\n",
      "Best F1 Score: 0.8341445418744879\n"
     ]
    }
   ],
   "source": [
    "#Random forest grid search\n",
    "\n",
    "model = RandomForestClassifier()\n",
    "\n",
    "param_grid = {\n",
    "    'max_depth': [10, 20, 30, None],  # None means nodes are expanded until all leaves are pure or contain min_samples_leaf\n",
    "    'max_features': [None, 'sqrt', 'log2'],  # Number of features to consider for split\n",
    "    'min_samples_leaf': [1, 2, 4, 6],  # Minimum samples required to be a leaf node\n",
    "    'min_samples_split': [2, 5, 10],  # Minimum samples required to split a node\n",
    "    'n_estimators': [100, 200, 500],  # Number of trees in the forest\n",
    "    'random_state': [13],  # Random state for reproducibility (fixed)\n",
    "}\n",
    "\n",
    "grid_search = GridSearchCV(estimator=model, param_grid=param_grid, \n",
    "                           scoring='f1', cv=20, verbose=2, n_jobs=-1)\n",
    "grid_search.fit(X_train, y_train)\n",
    "\n",
    "print(f\"Best Parameters: {grid_search.best_params_}\")\n",
    "print(f\"Best F1 Score: {grid_search.best_score_}\")"
   ]
  },
  {
   "cell_type": "code",
   "execution_count": 74,
   "metadata": {},
   "outputs": [],
   "source": [
    "log_reg =  Pipeline([\n",
    "    ('scaler', StandardScaler()),\n",
    "    ('classifier', LogisticRegression(solver='liblinear', C=1, penalty=\"l1\", random_state=13))])\n",
    "\n",
    "svm = Pipeline([\n",
    "    ('scaler', StandardScaler()),\n",
    "    ('classifier', SVC(probability=True, kernel=\"rbf\", C=0.1, gamma=00.1,  random_state=13))\n",
    "])\n",
    "\n",
    "rf = RandomForestClassifier(\n",
    "max_depth=10, max_features='sqrt', min_samples_leaf=1, min_samples_split=2, n_estimators=100, random_state= 13\n",
    ")"
   ]
  },
  {
   "cell_type": "code",
   "execution_count": 75,
   "metadata": {},
   "outputs": [
    {
     "name": "stdout",
     "output_type": "stream",
     "text": [
      "Mean cross-validation accuracy: 0.800515873015873\n",
      "Mean cross-validation precision: 0.8160984038751067\n",
      "Mean cross-validation recall: 0.8275\n",
      "Mean cross-validation F1 score: 0.8195775707136426\n"
     ]
    }
   ],
   "source": [
    "#Log_reg results with CV\n",
    "cv_results = cross_validate(log_reg, X_train, y_train, cv=20, scoring=scoring)\n",
    "\n",
    "print(\"Mean cross-validation accuracy:\", cv_results['test_accuracy'].mean())\n",
    "print(\"Mean cross-validation precision:\", cv_results['test_precision'].mean())\n",
    "print(\"Mean cross-validation recall:\", cv_results['test_recall'].mean())\n",
    "print(\"Mean cross-validation F1 score:\", cv_results['test_f1'].mean())"
   ]
  },
  {
   "cell_type": "code",
   "execution_count": 76,
   "metadata": {},
   "outputs": [
    {
     "name": "stdout",
     "output_type": "stream",
     "text": [
      "Mean cross-validation accuracy: 0.7921825396825397\n",
      "Mean cross-validation precision: 0.7999627795608918\n",
      "Mean cross-validation recall: 0.8326315789473686\n",
      "Mean cross-validation F1 score: 0.8138918104994918\n"
     ]
    }
   ],
   "source": [
    "#SVM results with Cv\n",
    "\n",
    "cv_svm = cross_validate(svm, X_train, y_train, cv=20, scoring=scoring)\n",
    "\n",
    "print(\"Mean cross-validation accuracy:\", cv_svm['test_accuracy'].mean())\n",
    "print(\"Mean cross-validation precision:\", cv_svm['test_precision'].mean())\n",
    "print(\"Mean cross-validation recall:\", cv_svm['test_recall'].mean())\n",
    "print(\"Mean cross-validation F1 score:\", cv_svm['test_f1'].mean())"
   ]
  },
  {
   "cell_type": "code",
   "execution_count": 77,
   "metadata": {},
   "outputs": [
    {
     "name": "stdout",
     "output_type": "stream",
     "text": [
      "Mean cross-validation accuracy: 0.8158730158730159\n",
      "Mean cross-validation precision: 0.8264917687829587\n",
      "Mean cross-validation recall: 0.845657894736842\n",
      "Mean cross-validation F1 score: 0.8341445418744879\n"
     ]
    }
   ],
   "source": [
    "#random forest results with CV\n",
    "cv_rf = cross_validate(rf, X_train, y_train, cv=20, scoring=scoring)\n",
    "\n",
    "print(\"Mean cross-validation accuracy:\", cv_rf['test_accuracy'].mean())\n",
    "print(\"Mean cross-validation precision:\", cv_rf['test_precision'].mean())\n",
    "print(\"Mean cross-validation recall:\", cv_rf['test_recall'].mean())\n",
    "print(\"Mean cross-validation F1 score:\", cv_rf['test_f1'].mean())"
   ]
  },
  {
   "cell_type": "code",
   "execution_count": 78,
   "metadata": {},
   "outputs": [
    {
     "name": "stdout",
     "output_type": "stream",
     "text": [
      "Stack:\n",
      "Mean cross-validation accuracy: 0.7949603174603173\n",
      "Mean cross-validation precision: 0.8114013867109842\n",
      "Mean cross-validation recall: 0.8226315789473684\n",
      "Mean cross-validation F1 score: 0.8143931495632394\n"
     ]
    }
   ],
   "source": [
    "\n",
    "# Create voting classifier\n",
    "voting_model = VotingClassifier(\n",
    "    estimators=[\n",
    "        ('log_reg', log_reg),\n",
    "        ('svm', svm),\n",
    "        ('rf', rf)\n",
    "    ],\n",
    "    voting='soft'  \n",
    ")\n",
    "\n",
    "cv_results = cross_validate(voting_model, X_train, y_train, cv=20, scoring=scoring)\n",
    "\n",
    "#Reaults\n",
    "print(\"Stack:\")\n",
    "print(\"Mean cross-validation accuracy:\", cv_results['test_accuracy'].mean())\n",
    "print(\"Mean cross-validation precision:\", cv_results['test_precision'].mean())\n",
    "print(\"Mean cross-validation recall:\", cv_results['test_recall'].mean())\n",
    "print(\"Mean cross-validation F1 score:\", cv_results['test_f1'].mean())"
   ]
  },
  {
   "cell_type": "code",
   "execution_count": null,
   "metadata": {},
   "outputs": [
    {
     "name": "stdout",
     "output_type": "stream",
     "text": [
      "Fitting 20 folds for each of 7776 candidates, totalling 155520 fits\n",
      "Best Parameters: {'log_reg__classifier__C': 10, 'log_reg__classifier__penalty': 'l1', 'log_reg__classifier__solver': 'liblinear', 'rf__max_depth': 20, 'rf__min_samples_leaf': 4, 'rf__min_samples_split': 10, 'rf__n_estimators': 100, 'svm__classifier__C': 1, 'svm__classifier__gamma': 0.01}\n",
      "Best F1 Score: 0.8288376552786053\n"
     ]
    },
    {
     "ename": "",
     "evalue": "",
     "output_type": "error",
     "traceback": [
      "\u001b[1;31mThe Kernel crashed while executing code in the current cell or a previous cell. \n",
      "\u001b[1;31mPlease review the code in the cell(s) to identify a possible cause of the failure. \n",
      "\u001b[1;31mClick <a href='https://aka.ms/vscodeJupyterKernelCrash'>here</a> for more info. \n",
      "\u001b[1;31mView Jupyter <a href='command:jupyter.viewOutput'>log</a> for further details."
     ]
    }
   ],
   "source": [
    "\n",
    "\n",
    "param_grid = {\n",
    "    # Logistic Regression parameters\n",
    "    'log_reg__classifier__C': [0.001, 0.01, 0.1, 1, 10, 100],\n",
    "    'log_reg__classifier__penalty': ['l1', 'l2'],\n",
    "    'log_reg__classifier__solver': ['liblinear'],  # Solver compatibility check\n",
    "\n",
    "    # SVM parameters\n",
    "    'svm__classifier__C': [0.1, 1, 10],\n",
    "    'svm__classifier__gamma': [1, 0.1, 0.01],\n",
    "\n",
    "    # Random Forest parameters\n",
    "    'rf__max_depth': [10, 20, 30, None],\n",
    "    'rf__min_samples_split': [2, 5, 10],\n",
    "    'rf__min_samples_leaf': [1, 2, 4],\n",
    "    'rf__n_estimators': [100, 200],\n",
    "}\n",
    "\n",
    "\n",
    "voting_pipeline = Pipeline([\n",
    "    ('ensemble', voting_model)  # The VotingClassifier defined earlier\n",
    "])\n",
    "\n",
    "grid_search = GridSearchCV(\n",
    "    estimator=voting_model,  # Replace with your VotingClassifier\n",
    "    param_grid=param_grid,\n",
    "    scoring='f1',\n",
    "    cv=20,\n",
    "    verbose=2,\n",
    "    n_jobs=-1\n",
    ")\n",
    "\n",
    "grid_search.fit(X_train, y_train)\n",
    "\n",
    "print(f\"Best Parameters: {grid_search.best_params_}\")\n",
    "print(f\"Best F1 Score: {grid_search.best_score_}\")\n",
    "\n",
    "#Fitting 20 folds for each of 7776 candidates, totalling 155520 fits\n",
    "#Best Parameters: {'log_reg__classifier__C': 10, 'log_reg__classifier__penalty': 'l1', 'log_reg__classifier__solver': 'liblinear', 'rf__max_depth': 20, 'rf__min_samples_leaf': 4, 'rf__min_samples_split': 10, 'rf__n_estimators': 100, 'svm__classifier__C': 1, 'svm__classifier__gamma': 0.01}\n",
    "#Best F1 Score: 0.8288376552786053"
   ]
  },
  {
   "cell_type": "code",
   "execution_count": 66,
   "metadata": {},
   "outputs": [
    {
     "name": "stdout",
     "output_type": "stream",
     "text": [
      "Custom Threshold Metrics at Threshold 0.376:\n",
      "F1 Score: 0.8430493273542601\n",
      "Accuracy: 0.8055555555555556\n",
      "Precision: 0.7580645161290323\n",
      "Recall: 0.9494949494949495\n"
     ]
    }
   ],
   "source": [
    "\n",
    "from sklearn.metrics import accuracy_score, precision_score, recall_score, f1_score\n",
    "\n",
    "# Custom threshold value\n",
    "threshold = 0.376\n",
    "\n",
    "def evaluate_threshold(voting_model, X_train, y_train, X_test, y_test, threshold):\n",
    "    voting_model.fit(X_train, y_train)\n",
    "\n",
    "    y_pred_proba = voting_model.predict_proba(X_test)[:, 1]\n",
    "\n",
    "    y_pred_custom = (y_pred_proba >= threshold).astype(int)\n",
    "\n",
    "    precision = precision_score(y_test, y_pred_custom)\n",
    "    recall = recall_score(y_test, y_pred_custom)\n",
    "    f1 = f1_score(y_test, y_pred_custom)\n",
    "    accuracy = accuracy_score(y_test, y_pred_custom)\n",
    "\n",
    "    return y_pred_custom, precision, recall, f1, accuracy\n",
    "\n",
    "# Custom threshold\n",
    "y_pred_custom, precision, recall, f1, accuracy = evaluate_threshold(\n",
    "    voting_model, X_train, y_train, X_test, y_test, threshold\n",
    ")\n",
    "\n",
    "# Print results\n",
    "print(f\"Custom Threshold Metrics at Threshold {threshold}:\")\n",
    "print(f\"F1 Score: {f1}\")\n",
    "print(f\"Accuracy: {accuracy}\")\n",
    "print(f\"Precision: {precision}\")\n",
    "print(f\"Recall: {recall}\")"
   ]
  },
  {
   "cell_type": "code",
   "execution_count": 67,
   "metadata": {},
   "outputs": [
    {
     "data": {
      "image/png": "[encoded data removed]",
      "text/plain": [
       "<Figure size 800x600 with 1 Axes>"
      ]
     },
     "metadata": {},
     "output_type": "display_data"
    }
   ],
   "source": [
    "import numpy as np\n",
    "import matplotlib.pyplot as plt\n",
    "from sklearn.metrics import precision_recall_curve, average_precision_score\n",
    "from sklearn.model_selection import cross_val_predict\n",
    "\n",
    "\n",
    "\n",
    "voting_model.fit(X_train, y_train)\n",
    "\n",
    "# Get predicted probabilities for the positive class\n",
    "y_proba_positive = voting_model.predict_proba(X)[:, 1]\n",
    "\n",
    "\n",
    "# Compute precision-recall metrics\n",
    "precision, recall, thresholds = precision_recall_curve(y, y_proba_positive)\n",
    "avg_precision = average_precision_score(y, y_proba_positive)\n",
    "\n",
    "# Plot the precision-recall curve\n",
    "plt.figure(figsize=(8, 6))\n",
    "plt.plot(recall, precision, label=f'Precision-Recall Curve (AP = {avg_precision:.2f})', color='b')\n",
    "plt.xlabel('Recall')\n",
    "plt.ylabel('Precision')\n",
    "plt.title('Precision-Recall Curve')\n",
    "plt.legend()\n",
    "plt.grid()\n",
    "plt.xlim([0.0, 1.0])\n",
    "plt.xlim([0.0, 1.0])\n",
    "plt.show()"
   ]
  }
 ],
 "metadata": {
  "kernelspec": {
   "display_name": "Python 3",
   "language": "python",
   "name": "python3"
  },
  "language_info": {
   "codemirror_mode": {
    "name": "ipython",
    "version": 3
   },
   "file_extension": ".py",
   "mimetype": "text/x-python",
   "name": "python",
   "nbconvert_exporter": "python",
   "pygments_lexer": "ipython3",
   "version": "3.12.8"
  }
 },
 "nbformat": 4,
 "nbformat_minor": 2
}
