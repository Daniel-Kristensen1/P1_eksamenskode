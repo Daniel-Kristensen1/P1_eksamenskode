{
 "cells": [
  {
   "cell_type": "code",
   "execution_count": 141,
   "metadata": {},
   "outputs": [],
   "source": [
    "import pandas as pd\n",
    "from sklearn.model_selection import cross_validate, train_test_split\n",
    "from sklearn.linear_model import LogisticRegression\n",
    "from sklearn.preprocessing import StandardScaler\n",
    "from sklearn.pipeline import Pipeline\n",
    "from sklearn.metrics import make_scorer, precision_score, recall_score, f1_score\n",
    "from sklearn.ensemble import BaggingClassifier\n",
    "from sklearn import pipeline\n",
    "from sklearn.discriminant_analysis import StandardScaler\n",
    "from sklearn.ensemble import RandomForestClassifier, VotingClassifier\n",
    "from sklearn.linear_model import LogisticRegression\n",
    "from sklearn.model_selection import cross_validate\n",
    "from sklearn.svm import SVC\n",
    "from sklearn.pipeline import Pipeline\n",
    "# Load the dataset\n",
    "#Stationær\n",
    "df = pd.read_csv(r'C:\\Users\\Daniel K\\OneDrive\\Desktop\\DAKI\\1. Semester\\DAKI-opg\\daki_p1\\Rensetdata.csv')\n",
    "#Bærbar\n",
    "#df = pd.read_csv(\"/Users/daniel_kristensen/DAKI/opgaver/DAKI-opg/daki_p1/Rensetdata.csv\")\n",
    "\n",
    "\n",
    "# Define features and target variable\n",
    "features = ['Cholesterol', 'RestingBP', 'Age', 'FastingBS', 'MaxHR', 'Sex_M', \n",
    "            'ExerciseAngina_Y', 'RestingECG_ST', 'ChestPainType_TA', \n",
    "            'ChestPainType_ATA', 'ChestPainType_NAP', 'RestingECG_Normal']\n",
    "target = 'HeartDisease'\n",
    "\n",
    "X = df[features]\n",
    "y = df[target]\n",
    "\n",
    "# Split into train and test sets\n",
    "X_train, X_test, y_train, y_test = train_test_split(X, y, test_size=0.2, random_state=13, stratify=y)\n",
    "\n",
    "\n",
    "# Define scoring metrics\n",
    "scoring = {\n",
    "    'accuracy': 'accuracy',\n",
    "    'precision': make_scorer(precision_score),\n",
    "    'recall': make_scorer(recall_score),\n",
    "    'f1': make_scorer(f1_score)\n",
    "}"
   ]
  },
  {
   "cell_type": "code",
   "execution_count": 142,
   "metadata": {},
   "outputs": [],
   "source": [
    "log_reg =  Pipeline([\n",
    "    ('scaler', StandardScaler()),\n",
    "    ('classifier', LogisticRegression(solver='saga', C=0.01, random_state=13))])\n",
    "\n",
    "svm = Pipeline([\n",
    "    ('scaler', StandardScaler()),\n",
    "    ('classifier', SVC(probability=True, kernel=\"rbf\", random_state=13))\n",
    "])\n",
    "\n",
    "rf = RandomForestClassifier(\n",
    "min_samples_leaf= 4, min_samples_split=10, n_estimators=200, random_state=13\n",
    ")"
   ]
  },
  {
   "cell_type": "code",
   "execution_count": 143,
   "metadata": {},
   "outputs": [
    {
     "name": "stdout",
     "output_type": "stream",
     "text": [
      "Mean cross-validation accuracy: 0.80935960591133\n",
      "Mean cross-validation precision: 0.8109640830016218\n",
      "Mean cross-validation recall: 0.8643750000000001\n",
      "Mean cross-validation F1 score: 0.8323767373518324\n"
     ]
    }
   ],
   "source": [
    "log_reg = Pipeline([\n",
    "    ('scaler', StandardScaler()),\n",
    "    ('model', LogisticRegression(solver='saga', C=0.01, random_state=13))\n",
    "])\n",
    "\n",
    "cv_results = cross_validate(log_reg, X_train, y_train, cv=20, scoring=scoring)\n",
    "\n",
    "print(\"Mean cross-validation accuracy:\", cv_results['test_accuracy'].mean())\n",
    "print(\"Mean cross-validation precision:\", cv_results['test_precision'].mean())\n",
    "print(\"Mean cross-validation recall:\", cv_results['test_recall'].mean())\n",
    "print(\"Mean cross-validation F1 score:\", cv_results['test_f1'].mean())"
   ]
  },
  {
   "cell_type": "code",
   "execution_count": 144,
   "metadata": {},
   "outputs": [
    {
     "name": "stdout",
     "output_type": "stream",
     "text": [
      "Mean cross-validation accuracy: 0.8340517241379309\n",
      "Mean cross-validation precision: 0.8480324562348557\n",
      "Mean cross-validation recall: 0.8639583333333334\n",
      "Mean cross-validation F1 score: 0.851007689850808\n"
     ]
    }
   ],
   "source": [
    "svm = Pipeline([\n",
    "    ('scaler', StandardScaler()),\n",
    "    ('classifier', SVC(probability=True, kernel=\"rbf\", random_state=13))])\n",
    "\n",
    "cv_svm = cross_validate(svm, X_train, y_train, cv=20, scoring=scoring)\n",
    "\n",
    "print(\"Mean cross-validation accuracy:\", cv_svm['test_accuracy'].mean())\n",
    "print(\"Mean cross-validation precision:\", cv_svm['test_precision'].mean())\n",
    "print(\"Mean cross-validation recall:\", cv_svm['test_recall'].mean())\n",
    "print(\"Mean cross-validation F1 score:\", cv_svm['test_f1'].mean())"
   ]
  },
  {
   "cell_type": "code",
   "execution_count": 145,
   "metadata": {},
   "outputs": [
    {
     "name": "stdout",
     "output_type": "stream",
     "text": [
      "Mean cross-validation accuracy: 0.8269088669950738\n",
      "Mean cross-validation precision: 0.845843835387179\n",
      "Mean cross-validation recall: 0.8516666666666668\n",
      "Mean cross-validation F1 score: 0.8429719087048309\n"
     ]
    }
   ],
   "source": [
    "rf = RandomForestClassifier(\n",
    "#max_depth = 20, max_features='sqrt', min_samples_leaf= 7, min_samples_split=11, n_estimators= 205,random_state=13\n",
    "min_samples_leaf= 4, \n",
    "min_samples_split=10, \n",
    "n_estimators=200, \n",
    "random_state=13\n",
    ")\n",
    "\n",
    "\n",
    "cv_rf = cross_validate(rf, X_train, y_train, cv=20, scoring=scoring)\n",
    "\n",
    "print(\"Mean cross-validation accuracy:\", cv_rf['test_accuracy'].mean())\n",
    "print(\"Mean cross-validation precision:\", cv_rf['test_precision'].mean())\n",
    "print(\"Mean cross-validation recall:\", cv_rf['test_recall'].mean())\n",
    "print(\"Mean cross-validation F1 score:\", cv_rf['test_f1'].mean())"
   ]
  },
  {
   "cell_type": "code",
   "execution_count": 150,
   "metadata": {},
   "outputs": [
    {
     "name": "stdout",
     "output_type": "stream",
     "text": [
      "Stack:\n",
      "Mean cross-validation accuracy: 0.8339285714285716\n",
      "Mean cross-validation precision: 0.8443790967804125\n",
      "Mean cross-validation recall: 0.8670833333333334\n",
      "Mean cross-validation F1 score: 0.8509290162706133\n"
     ]
    }
   ],
   "source": [
    "\n",
    "# Create voting classifier\n",
    "voting_model = VotingClassifier(\n",
    "    estimators=[\n",
    "        ('log_reg', log_reg),\n",
    "        ('svm', svm),\n",
    "        ('rf', rf)\n",
    "    ],\n",
    "    voting='soft'  \n",
    ")\n",
    "\n",
    "cv_results = cross_validate(voting_model, X_train, y_train, cv=20, scoring=scoring)\n",
    "\n",
    "#Reaults\n",
    "print(\"Stack:\")\n",
    "print(\"Mean cross-validation accuracy:\", cv_results['test_accuracy'].mean())\n",
    "print(\"Mean cross-validation precision:\", cv_results['test_precision'].mean())\n",
    "print(\"Mean cross-validation recall:\", cv_results['test_recall'].mean())\n",
    "print(\"Mean cross-validation F1 score:\", cv_results['test_f1'].mean())"
   ]
  },
  {
   "cell_type": "code",
   "execution_count": 161,
   "metadata": {},
   "outputs": [
    {
     "name": "stdout",
     "output_type": "stream",
     "text": [
      "Custom Threshold Metrics at Threshold 0.376:\n",
      "F1 Score: 0.8352941176470589\n",
      "Accuracy: 0.8055555555555556\n",
      "Precision: 0.7802197802197802\n",
      "Recall: 0.8987341772151899\n"
     ]
    }
   ],
   "source": [
    "\n",
    "from sklearn.metrics import accuracy_score, precision_score, recall_score, f1_score\n",
    "\n",
    "# Custom threshold value\n",
    "threshold = 0.376\n",
    "\n",
    "def evaluate_threshold(voting_model, X_train, y_train, X_test, y_test, threshold):\n",
    "    voting_model.fit(X_train, y_train)\n",
    "\n",
    "    y_pred_proba = voting_model.predict_proba(X_test)[:, 1]\n",
    "\n",
    "    y_pred_custom = (y_pred_proba >= threshold).astype(int)\n",
    "\n",
    "    precision = precision_score(y_test, y_pred_custom)\n",
    "    recall = recall_score(y_test, y_pred_custom)\n",
    "    f1 = f1_score(y_test, y_pred_custom)\n",
    "    accuracy = accuracy_score(y_test, y_pred_custom)\n",
    "\n",
    "    return y_pred_custom, precision, recall, f1, accuracy\n",
    "\n",
    "# Custom threshold\n",
    "y_pred_custom, precision, recall, f1, accuracy = evaluate_threshold(\n",
    "    voting_model, X_train, y_train, X_test, y_test, threshold\n",
    ")\n",
    "\n",
    "# Print results\n",
    "print(f\"Custom Threshold Metrics at Threshold {threshold}:\")\n",
    "print(f\"F1 Score: {f1}\")\n",
    "print(f\"Accuracy: {accuracy}\")\n",
    "print(f\"Precision: {precision}\")\n",
    "print(f\"Recall: {recall}\")"
   ]
  },
  {
   "cell_type": "code",
   "execution_count": 163,
   "metadata": {},
   "outputs": [
    {
     "data": {
      "image/png": "[encoded data removed]",
      "text/plain": [
       "<Figure size 800x600 with 1 Axes>"
      ]
     },
     "metadata": {},
     "output_type": "display_data"
    }
   ],
   "source": [
    "import numpy as np\n",
    "import matplotlib.pyplot as plt\n",
    "from sklearn.metrics import precision_recall_curve, average_precision_score\n",
    "from sklearn.model_selection import cross_val_predict\n",
    "\n",
    "\n",
    "\n",
    "voting_model.fit(X_train, y_train)\n",
    "\n",
    "# Get predicted probabilities for the positive class\n",
    "y_proba_positive = voting_model.predict_proba(X)[:, 1]\n",
    "\n",
    "\n",
    "# Compute precision-recall metrics\n",
    "precision, recall, thresholds = precision_recall_curve(y, y_proba_positive)\n",
    "avg_precision = average_precision_score(y, y_proba_positive)\n",
    "\n",
    "# Plot the precision-recall curve\n",
    "plt.figure(figsize=(8, 6))\n",
    "plt.plot(recall, precision, label=f'Precision-Recall Curve (AP = {avg_precision:.2f})', color='b')\n",
    "plt.xlabel('Recall')\n",
    "plt.ylabel('Precision')\n",
    "plt.title('Precision-Recall Curve')\n",
    "plt.legend()\n",
    "plt.grid()\n",
    "plt.xlim([0.0, 1.0])\n",
    "plt.xlim([0.0, 1.0])\n",
    "plt.show()"
   ]
  }
 ],
 "metadata": {
  "kernelspec": {
   "display_name": "Python 3",
   "language": "python",
   "name": "python3"
  },
  "language_info": {
   "codemirror_mode": {
    "name": "ipython",
    "version": 3
   },
   "file_extension": ".py",
   "mimetype": "text/x-python",
   "name": "python",
   "nbconvert_exporter": "python",
   "pygments_lexer": "ipython3",
   "version": "3.12.8"
  }
 },
 "nbformat": 4,
 "nbformat_minor": 2
}
